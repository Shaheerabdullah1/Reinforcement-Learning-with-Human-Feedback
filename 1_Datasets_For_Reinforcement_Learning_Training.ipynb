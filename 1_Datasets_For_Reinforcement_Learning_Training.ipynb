{
  "nbformat": 4,
  "nbformat_minor": 0,
  "metadata": {
    "colab": {
      "provenance": []
    },
    "kernelspec": {
      "name": "python3",
      "display_name": "Python 3"
    },
    "language_info": {
      "name": "python"
    }
  },
  "cells": [
    {
      "cell_type": "code",
      "execution_count": 34,
      "metadata": {
        "id": "uY0Gv9VXfqZK"
      },
      "outputs": [],
      "source": [
        "preference_dataset_path = \"/content/sample_preference.jsonl\""
      ]
    },
    {
      "cell_type": "markdown",
      "source": [
        "## Loading the Preference Dataset"
      ],
      "metadata": {
        "id": "YVyfZA01ku1O"
      }
    },
    {
      "cell_type": "code",
      "source": [
        "import json"
      ],
      "metadata": {
        "id": "rbQlgC3xgf-W"
      },
      "execution_count": 35,
      "outputs": []
    },
    {
      "cell_type": "code",
      "source": [
        "preference_data = []"
      ],
      "metadata": {
        "id": "hwzR0aaqgiEB"
      },
      "execution_count": 36,
      "outputs": []
    },
    {
      "cell_type": "code",
      "source": [
        "with open(preference_dataset_path) as f:\n",
        "  for line in f:\n",
        "    preference_data.append(json.loads(line))"
      ],
      "metadata": {
        "id": "g3-S00D1gkOx"
      },
      "execution_count": 37,
      "outputs": []
    },
    {
      "cell_type": "code",
      "source": [
        "sample_1 = preference_data[0]"
      ],
      "metadata": {
        "id": "M3_ru56Ygtug"
      },
      "execution_count": 38,
      "outputs": []
    },
    {
      "cell_type": "code",
      "source": [
        "print(type(sample_1))"
      ],
      "metadata": {
        "colab": {
          "base_uri": "https://localhost:8080/"
        },
        "id": "DotpshOBg_2X",
        "outputId": "ec37a8f0-77bf-4f5f-df29-495c308dac22"
      },
      "execution_count": 39,
      "outputs": [
        {
          "output_type": "stream",
          "name": "stdout",
          "text": [
            "<class 'dict'>\n"
          ]
        }
      ]
    },
    {
      "cell_type": "code",
      "source": [
        "print(sample_1.keys())"
      ],
      "metadata": {
        "colab": {
          "base_uri": "https://localhost:8080/"
        },
        "id": "VcNPm48OhDWA",
        "outputId": "3a110bac-f220-4039-d9e2-d5973322ff5d"
      },
      "execution_count": 40,
      "outputs": [
        {
          "output_type": "stream",
          "name": "stdout",
          "text": [
            "dict_keys(['input_text', 'candidate_0', 'candidate_1', 'choice'])\n"
          ]
        }
      ]
    },
    {
      "cell_type": "code",
      "source": [
        "preference_data[0]['input_text']"
      ],
      "metadata": {
        "colab": {
          "base_uri": "https://localhost:8080/",
          "height": 209
        },
        "id": "n4kIHcZehzFx",
        "outputId": "5d91ad04-f809-496f-cd05-9877d45472dd"
      },
      "execution_count": 41,
      "outputs": [
        {
          "output_type": "execute_result",
          "data": {
            "text/plain": [
              "'I live right next to a huge university, and have been applying for a variety of jobs with them through their faceless electronic jobs portal (the \"click here to apply for this job\" type thing) for a few months. \\n\\nThe very first job I applied for, I got an interview that went just so-so. But then, I never heard back (I even looked up the number of the person who called me and called her back, left a voicemail, never heard anything).\\n\\nNow, when I\\'m applying for subsequent jobs - is it that same HR person who is seeing all my applications?? Or are they forwarded to the specific departments?\\n\\nI\\'ve applied for five jobs there in the last four months, all the resumes and cover letters tailored for each open position. Is this hurting my chances? I never got another interview there, for any of the positions. [summary]: '"
            ],
            "application/vnd.google.colaboratory.intrinsic+json": {
              "type": "string"
            }
          },
          "metadata": {},
          "execution_count": 41
        }
      ]
    },
    {
      "cell_type": "code",
      "source": [
        "#All data ends with [summary]: keyword\n",
        "preference_data[1]['input_text'][-50:]"
      ],
      "metadata": {
        "colab": {
          "base_uri": "https://localhost:8080/",
          "height": 35
        },
        "id": "6hsUfgIlhqpG",
        "outputId": "5489cc22-adc9-415a-8cf6-60a1ac13adba"
      },
      "execution_count": 42,
      "outputs": [
        {
          "output_type": "execute_result",
          "data": {
            "text/plain": [
              "\"mostly to places that I've never seen? [summary]: \""
            ],
            "application/vnd.google.colaboratory.intrinsic+json": {
              "type": "string"
            }
          },
          "metadata": {},
          "execution_count": 42
        }
      ]
    },
    {
      "cell_type": "code",
      "source": [
        "print(sample_1.values())"
      ],
      "metadata": {
        "colab": {
          "base_uri": "https://localhost:8080/"
        },
        "id": "tg_tex6uhIcD",
        "outputId": "5cf9e358-5f78-4e33-8108-01fd8d14b213"
      },
      "execution_count": 43,
      "outputs": [
        {
          "output_type": "stream",
          "name": "stdout",
          "text": [
            "dict_values(['I live right next to a huge university, and have been applying for a variety of jobs with them through their faceless electronic jobs portal (the \"click here to apply for this job\" type thing) for a few months. \\n\\nThe very first job I applied for, I got an interview that went just so-so. But then, I never heard back (I even looked up the number of the person who called me and called her back, left a voicemail, never heard anything).\\n\\nNow, when I\\'m applying for subsequent jobs - is it that same HR person who is seeing all my applications?? Or are they forwarded to the specific departments?\\n\\nI\\'ve applied for five jobs there in the last four months, all the resumes and cover letters tailored for each open position. Is this hurting my chances? I never got another interview there, for any of the positions. [summary]: ', ' When applying through a massive job portal, is just one HR person seeing ALL of them?', ' When applying to many jobs through a single university jobs portal, is just one HR person reading ALL my applications?', 1])\n"
          ]
        }
      ]
    },
    {
      "cell_type": "code",
      "source": [
        "print(f\"Candidate_0:\\n{sample_1.get('candidate_0')}\\n\")\n",
        "print(f\"Candidate_1:\\n{sample_1.get('candidate_1')}\\n\")"
      ],
      "metadata": {
        "colab": {
          "base_uri": "https://localhost:8080/"
        },
        "id": "-CLn9jfGhKew",
        "outputId": "74d382eb-ab8f-4127-d797-52da2ead3d11"
      },
      "execution_count": 44,
      "outputs": [
        {
          "output_type": "stream",
          "name": "stdout",
          "text": [
            "Candidate_0:\n",
            " When applying through a massive job portal, is just one HR person seeing ALL of them?\n",
            "\n",
            "Candidate_1:\n",
            " When applying to many jobs through a single university jobs portal, is just one HR person reading ALL my applications?\n",
            "\n"
          ]
        }
      ]
    },
    {
      "cell_type": "code",
      "source": [
        "print(f\"Choice key is: {sample_1.get('choice')}\")"
      ],
      "metadata": {
        "colab": {
          "base_uri": "https://localhost:8080/"
        },
        "id": "6pSG5-rziuk1",
        "outputId": "976d8cbb-7b00-4233-e99e-e14c72bfd081"
      },
      "execution_count": 45,
      "outputs": [
        {
          "output_type": "stream",
          "name": "stdout",
          "text": [
            "Choice key is: 1\n"
          ]
        }
      ]
    },
    {
      "cell_type": "markdown",
      "source": [
        "### Preference choice for 2nd Element"
      ],
      "metadata": {
        "id": "OWEHkA1tj9aa"
      }
    },
    {
      "cell_type": "code",
      "source": [
        "preference_data[1].keys()"
      ],
      "metadata": {
        "colab": {
          "base_uri": "https://localhost:8080/"
        },
        "id": "Iau4XPGDjGR0",
        "outputId": "d9dabe44-19ea-43fe-fde6-0571ff9e25a4"
      },
      "execution_count": 46,
      "outputs": [
        {
          "output_type": "execute_result",
          "data": {
            "text/plain": [
              "dict_keys(['input_text', 'candidate_0', 'candidate_1', 'choice'])"
            ]
          },
          "metadata": {},
          "execution_count": 46
        }
      ]
    },
    {
      "cell_type": "code",
      "source": [
        "preference_data[1]['input_text']"
      ],
      "metadata": {
        "colab": {
          "base_uri": "https://localhost:8080/",
          "height": 174
        },
        "id": "H0GE-YDPjmqM",
        "outputId": "c21dee53-f436-45e0-9a31-71c97d0b6ddf"
      },
      "execution_count": 47,
      "outputs": [
        {
          "output_type": "execute_result",
          "data": {
            "text/plain": [
              "\"I currently live in Texas and I plan on going to university in England, and I think I want to stay there for a while. Before I go to university, though, I wanted to plan a road trip across the US. Obviously this is going to be expensive and I plan on saving money (I already have a lot saved up), but I'm still unsure of the route. I've lived in a couple different places and I've traveled a lot inside the US, but there's still a lot that I haven't seen. I want to make the route as short as possible while still visiting the places I want. So, in your opinion, should I try and go mostly places that mean something to me from my childhood, or should I try to go mostly to places that I've never seen? [summary]: \""
            ],
            "application/vnd.google.colaboratory.intrinsic+json": {
              "type": "string"
            }
          },
          "metadata": {},
          "execution_count": 47
        }
      ]
    },
    {
      "cell_type": "code",
      "source": [
        "print(f\"Candidate_0:\\n{preference_data[1]['candidate_0']}\\n\")\n",
        "print(f\"Candidate_1:\\n{preference_data[1]['candidate_1']}\\n\")"
      ],
      "metadata": {
        "colab": {
          "base_uri": "https://localhost:8080/"
        },
        "id": "hnQ3NYRUj2Iq",
        "outputId": "1364e395-d73d-4747-b872-e13d67971e16"
      },
      "execution_count": 48,
      "outputs": [
        {
          "output_type": "stream",
          "name": "stdout",
          "text": [
            "Candidate_0:\n",
            " I want to go on a road trip from Texas to England to visit as many places as possible. Which route should I choose?\n",
            "\n",
            "Candidate_1:\n",
            " How do I plan a road trip in a way that I can see the places I want to see, but also see the places I haven't seen?\n",
            "\n"
          ]
        }
      ]
    },
    {
      "cell_type": "code",
      "source": [
        "print(f\"Choice -->{preference_data[1]['choice']}\\n\")"
      ],
      "metadata": {
        "colab": {
          "base_uri": "https://localhost:8080/"
        },
        "id": "aXfCnFD4jrDi",
        "outputId": "7e4e27ae-8c88-4064-8426-e35a624ec181"
      },
      "execution_count": 49,
      "outputs": [
        {
          "output_type": "stream",
          "name": "stdout",
          "text": [
            "Choice -->1\n",
            "\n"
          ]
        }
      ]
    },
    {
      "cell_type": "code",
      "source": [
        "preference_data[1].values()"
      ],
      "metadata": {
        "colab": {
          "base_uri": "https://localhost:8080/"
        },
        "id": "_Ky3GUcEmhK2",
        "outputId": "8baf27ff-b755-4b22-80f8-064388613b20"
      },
      "execution_count": 57,
      "outputs": [
        {
          "output_type": "execute_result",
          "data": {
            "text/plain": [
              "dict_values([\"I currently live in Texas and I plan on going to university in England, and I think I want to stay there for a while. Before I go to university, though, I wanted to plan a road trip across the US. Obviously this is going to be expensive and I plan on saving money (I already have a lot saved up), but I'm still unsure of the route. I've lived in a couple different places and I've traveled a lot inside the US, but there's still a lot that I haven't seen. I want to make the route as short as possible while still visiting the places I want. So, in your opinion, should I try and go mostly places that mean something to me from my childhood, or should I try to go mostly to places that I've never seen? [summary]: \", ' I want to go on a road trip from Texas to England to visit as many places as possible. Which route should I choose?', \" How do I plan a road trip in a way that I can see the places I want to see, but also see the places I haven't seen?\", 1])"
            ]
          },
          "metadata": {},
          "execution_count": 57
        }
      ]
    },
    {
      "cell_type": "markdown",
      "source": [
        "## Loading the Prompt Dataset"
      ],
      "metadata": {
        "id": "xIZl7fPAkrd7"
      }
    },
    {
      "cell_type": "code",
      "source": [
        "prompt_dataset = \"/content/sample_prompt.jsonl\""
      ],
      "metadata": {
        "id": "L6pG7bfUj6rO"
      },
      "execution_count": 50,
      "outputs": []
    },
    {
      "cell_type": "code",
      "source": [
        "import json"
      ],
      "metadata": {
        "id": "_JCnHhyOlEjZ"
      },
      "execution_count": 51,
      "outputs": []
    },
    {
      "cell_type": "code",
      "source": [
        "prompt_data= []"
      ],
      "metadata": {
        "id": "rBneubGtlTYz"
      },
      "execution_count": 52,
      "outputs": []
    },
    {
      "cell_type": "code",
      "source": [
        "with open(prompt_dataset) as f:\n",
        "  for line in f:\n",
        "    prompt_data.append(json.loads(line))"
      ],
      "metadata": {
        "id": "GmLTVdfklFp-"
      },
      "execution_count": 53,
      "outputs": []
    },
    {
      "cell_type": "code",
      "source": [
        "len(prompt_data)"
      ],
      "metadata": {
        "colab": {
          "base_uri": "https://localhost:8080/"
        },
        "id": "pVdYB169lLu1",
        "outputId": "eb68f859-49d0-4f97-c271-4225e15700c4"
      },
      "execution_count": 56,
      "outputs": [
        {
          "output_type": "execute_result",
          "data": {
            "text/plain": [
              "6"
            ]
          },
          "metadata": {},
          "execution_count": 56
        }
      ]
    },
    {
      "cell_type": "code",
      "source": [
        "def print_d(d):\n",
        "  for key,value in d.items():\n",
        "    print(f\"keys: {key}\\nvalue{value}\\n\")"
      ],
      "metadata": {
        "id": "cHOEPh8JlbG-"
      },
      "execution_count": 60,
      "outputs": []
    },
    {
      "cell_type": "code",
      "source": [
        "print_d(prompt_data[0])"
      ],
      "metadata": {
        "colab": {
          "base_uri": "https://localhost:8080/"
        },
        "id": "tBv4sa3Bm4fa",
        "outputId": "84b33de0-4b6e-4b34-e932-df500541c8db"
      },
      "execution_count": 61,
      "outputs": [
        {
          "output_type": "stream",
          "name": "stdout",
          "text": [
            "keys: input_text\n",
            "valueI noticed this the very first day! I took a picture of it to send to one of my friends who is a fellow redditor. Later when I was getting to know my suitemates, I asked them if they ever used reddit, and they showed me the stencil they used to spray that! Along with the lion which is his trademark. \n",
            " But [summary]: \n",
            "\n"
          ]
        }
      ]
    },
    {
      "cell_type": "code",
      "source": [
        "print_d(prompt_data[1])"
      ],
      "metadata": {
        "colab": {
          "base_uri": "https://localhost:8080/"
        },
        "id": "UXNfi9BVm7Ni",
        "outputId": "b90f3d94-0981-4bdc-af5f-85f308de7980"
      },
      "execution_count": 62,
      "outputs": [
        {
          "output_type": "stream",
          "name": "stdout",
          "text": [
            "keys: input_text\n",
            "valueNooooooo, I loved my health class! My teacher was amazing! Most days we just went outside and played and the facility allowed it because the health teacher's argument was that teens need to spend time outside everyday and he let us do that. The other days were spent inside with him teaching us how to live a healthy lifestyle. He had guest speakers come in and reach us about nutrition and our final was open book...if we even had a final.... [summary]: \n",
            "\n"
          ]
        }
      ]
    },
    {
      "cell_type": "code",
      "source": [],
      "metadata": {
        "id": "Z-EW3g-6nEKw"
      },
      "execution_count": null,
      "outputs": []
    }
  ]
}